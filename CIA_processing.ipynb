{
 "cells": [
  {
   "cell_type": "code",
   "execution_count": 1,
   "metadata": {},
   "outputs": [],
   "source": [
    "import os  \n",
    "import glob\n",
    "import sklearn\n",
    "from sklearn.model_selection import train_test_split\n",
    "import pandas as pd\n",
    "from sklearn.metrics import accuracy_score, precision_score, recall_score, f1_score, confusion_matrix\n",
    "\n",
    "import PIL \n",
    "import random\n",
    "import numpy as np\n",
    "import matplotlib.pyplot as plt \n",
    "\n",
    "import torch\n",
    "import torch.nn as nn\n",
    "import torchvision.models as models\n",
    "from efficientnet_pytorch import EfficientNet\n",
    "from torchinfo import summary \n",
    "\n",
    "import torch.optim as optim\n",
    "from IPython.display import Image\n",
    "from torch.utils.data import DataLoader, Dataset\n",
    "\n",
    "from torchvision.datasets import ImageFolder\n",
    "from torchvision.transforms import transforms\n",
    "import torch.nn.functional as F\n",
    "\n",
    "\n",
    "import cv2\n",
    "import pydicom\n",
    "import matplotlib.pyplot as plt"
   ]
  },
  {
   "cell_type": "code",
   "execution_count": 2,
   "metadata": {},
   "outputs": [],
   "source": [
    "from duke_dbt_data import dcmread_image"
   ]
  },
  {
   "cell_type": "code",
   "execution_count": 3,
   "metadata": {},
   "outputs": [],
   "source": [
    "boxes_train = pd.read_csv(\"C:/Users/Lucas/Documents/PIBIC/DATASET/CANCER_IMAGING_ARCHIVE/BCS-DBT boxes-train-v2.csv\")               #Not Use yet\n",
    "file_path_test = pd.read_csv(\"C:/Users/Lucas/Documents/PIBIC/DATASET/CANCER_IMAGING_ARCHIVE/BCS-DBT file-paths-test-v2.csv\")        #Not Use\n",
    "file_path_train = pd.read_csv(\"C:/Users/Lucas/Documents/PIBIC/DATASET/CANCER_IMAGING_ARCHIVE/BCS-DBT file-paths-train-v2.csv\")      \n",
    "labels_train = pd.read_csv(\"C:/Users/Lucas/Documents/PIBIC/DATASET/CANCER_IMAGING_ARCHIVE/BCS-DBT labels-train-v2.csv\")\n",
    "file_path_valid = pd.read_csv(\"C:/Users/Lucas/Documents/PIBIC/DATASET/CANCER_IMAGING_ARCHIVE/BCS-DBT file-paths-validation-v2.csv\") #Not Use"
   ]
  },
  {
   "cell_type": "code",
   "execution_count": 4,
   "metadata": {},
   "outputs": [
    {
     "data": {
      "text/html": [
       "<div>\n",
       "<style scoped>\n",
       "    .dataframe tbody tr th:only-of-type {\n",
       "        vertical-align: middle;\n",
       "    }\n",
       "\n",
       "    .dataframe tbody tr th {\n",
       "        vertical-align: top;\n",
       "    }\n",
       "\n",
       "    .dataframe thead th {\n",
       "        text-align: right;\n",
       "    }\n",
       "</style>\n",
       "<table border=\"1\" class=\"dataframe\">\n",
       "  <thead>\n",
       "    <tr style=\"text-align: right;\">\n",
       "      <th></th>\n",
       "      <th>PatientID</th>\n",
       "      <th>StudyUID</th>\n",
       "      <th>View</th>\n",
       "      <th>descriptive_path</th>\n",
       "      <th>classic_path</th>\n",
       "    </tr>\n",
       "  </thead>\n",
       "  <tbody>\n",
       "    <tr>\n",
       "      <th>0</th>\n",
       "      <td>DBT-P00036</td>\n",
       "      <td>DBT-S03354</td>\n",
       "      <td>lcc</td>\n",
       "      <td>Breast-Cancer-Screening-DBT/DBT-P00036/01-01-2...</td>\n",
       "      <td>Breast-Cancer-Screening-DBT/DBT-P00036/1.2.826...</td>\n",
       "    </tr>\n",
       "    <tr>\n",
       "      <th>1</th>\n",
       "      <td>DBT-P00036</td>\n",
       "      <td>DBT-S03354</td>\n",
       "      <td>lmlo</td>\n",
       "      <td>Breast-Cancer-Screening-DBT/DBT-P00036/01-01-2...</td>\n",
       "      <td>Breast-Cancer-Screening-DBT/DBT-P00036/1.2.826...</td>\n",
       "    </tr>\n",
       "    <tr>\n",
       "      <th>2</th>\n",
       "      <td>DBT-P00036</td>\n",
       "      <td>DBT-S03354</td>\n",
       "      <td>rcc</td>\n",
       "      <td>Breast-Cancer-Screening-DBT/DBT-P00036/01-01-2...</td>\n",
       "      <td>Breast-Cancer-Screening-DBT/DBT-P00036/1.2.826...</td>\n",
       "    </tr>\n",
       "    <tr>\n",
       "      <th>3</th>\n",
       "      <td>DBT-P00036</td>\n",
       "      <td>DBT-S03354</td>\n",
       "      <td>rmlo</td>\n",
       "      <td>Breast-Cancer-Screening-DBT/DBT-P00036/01-01-2...</td>\n",
       "      <td>Breast-Cancer-Screening-DBT/DBT-P00036/1.2.826...</td>\n",
       "    </tr>\n",
       "    <tr>\n",
       "      <th>4</th>\n",
       "      <td>DBT-P00087</td>\n",
       "      <td>DBT-S04170</td>\n",
       "      <td>lcc</td>\n",
       "      <td>Breast-Cancer-Screening-DBT/DBT-P00087/01-01-2...</td>\n",
       "      <td>Breast-Cancer-Screening-DBT/DBT-P00087/1.2.826...</td>\n",
       "    </tr>\n",
       "    <tr>\n",
       "      <th>...</th>\n",
       "      <td>...</td>\n",
       "      <td>...</td>\n",
       "      <td>...</td>\n",
       "      <td>...</td>\n",
       "      <td>...</td>\n",
       "    </tr>\n",
       "    <tr>\n",
       "      <th>1716</th>\n",
       "      <td>DBT-P04790</td>\n",
       "      <td>DBT-S04022</td>\n",
       "      <td>rmlo</td>\n",
       "      <td>Breast-Cancer-Screening-DBT/DBT-P04790/01-01-2...</td>\n",
       "      <td>Breast-Cancer-Screening-DBT/DBT-P04790/1.2.826...</td>\n",
       "    </tr>\n",
       "    <tr>\n",
       "      <th>1717</th>\n",
       "      <td>DBT-P00129</td>\n",
       "      <td>DBT-S03696</td>\n",
       "      <td>lcc</td>\n",
       "      <td>Breast-Cancer-Screening-DBT/DBT-P00129/01-01-2...</td>\n",
       "      <td>Breast-Cancer-Screening-DBT/DBT-P00129/1.2.826...</td>\n",
       "    </tr>\n",
       "    <tr>\n",
       "      <th>1718</th>\n",
       "      <td>DBT-P00129</td>\n",
       "      <td>DBT-S03696</td>\n",
       "      <td>lmlo</td>\n",
       "      <td>Breast-Cancer-Screening-DBT/DBT-P00129/01-01-2...</td>\n",
       "      <td>Breast-Cancer-Screening-DBT/DBT-P00129/1.2.826...</td>\n",
       "    </tr>\n",
       "    <tr>\n",
       "      <th>1719</th>\n",
       "      <td>DBT-P00129</td>\n",
       "      <td>DBT-S03696</td>\n",
       "      <td>rcc</td>\n",
       "      <td>Breast-Cancer-Screening-DBT/DBT-P00129/01-01-2...</td>\n",
       "      <td>Breast-Cancer-Screening-DBT/DBT-P00129/1.2.826...</td>\n",
       "    </tr>\n",
       "    <tr>\n",
       "      <th>1720</th>\n",
       "      <td>DBT-P00129</td>\n",
       "      <td>DBT-S03696</td>\n",
       "      <td>rmlo</td>\n",
       "      <td>Breast-Cancer-Screening-DBT/DBT-P00129/01-01-2...</td>\n",
       "      <td>Breast-Cancer-Screening-DBT/DBT-P00129/1.2.826...</td>\n",
       "    </tr>\n",
       "  </tbody>\n",
       "</table>\n",
       "<p>1721 rows × 5 columns</p>\n",
       "</div>"
      ],
      "text/plain": [
       "       PatientID    StudyUID  View  \\\n",
       "0     DBT-P00036  DBT-S03354   lcc   \n",
       "1     DBT-P00036  DBT-S03354  lmlo   \n",
       "2     DBT-P00036  DBT-S03354   rcc   \n",
       "3     DBT-P00036  DBT-S03354  rmlo   \n",
       "4     DBT-P00087  DBT-S04170   lcc   \n",
       "...          ...         ...   ...   \n",
       "1716  DBT-P04790  DBT-S04022  rmlo   \n",
       "1717  DBT-P00129  DBT-S03696   lcc   \n",
       "1718  DBT-P00129  DBT-S03696  lmlo   \n",
       "1719  DBT-P00129  DBT-S03696   rcc   \n",
       "1720  DBT-P00129  DBT-S03696  rmlo   \n",
       "\n",
       "                                       descriptive_path  \\\n",
       "0     Breast-Cancer-Screening-DBT/DBT-P00036/01-01-2...   \n",
       "1     Breast-Cancer-Screening-DBT/DBT-P00036/01-01-2...   \n",
       "2     Breast-Cancer-Screening-DBT/DBT-P00036/01-01-2...   \n",
       "3     Breast-Cancer-Screening-DBT/DBT-P00036/01-01-2...   \n",
       "4     Breast-Cancer-Screening-DBT/DBT-P00087/01-01-2...   \n",
       "...                                                 ...   \n",
       "1716  Breast-Cancer-Screening-DBT/DBT-P04790/01-01-2...   \n",
       "1717  Breast-Cancer-Screening-DBT/DBT-P00129/01-01-2...   \n",
       "1718  Breast-Cancer-Screening-DBT/DBT-P00129/01-01-2...   \n",
       "1719  Breast-Cancer-Screening-DBT/DBT-P00129/01-01-2...   \n",
       "1720  Breast-Cancer-Screening-DBT/DBT-P00129/01-01-2...   \n",
       "\n",
       "                                           classic_path  \n",
       "0     Breast-Cancer-Screening-DBT/DBT-P00036/1.2.826...  \n",
       "1     Breast-Cancer-Screening-DBT/DBT-P00036/1.2.826...  \n",
       "2     Breast-Cancer-Screening-DBT/DBT-P00036/1.2.826...  \n",
       "3     Breast-Cancer-Screening-DBT/DBT-P00036/1.2.826...  \n",
       "4     Breast-Cancer-Screening-DBT/DBT-P00087/1.2.826...  \n",
       "...                                                 ...  \n",
       "1716  Breast-Cancer-Screening-DBT/DBT-P04790/1.2.826...  \n",
       "1717  Breast-Cancer-Screening-DBT/DBT-P00129/1.2.826...  \n",
       "1718  Breast-Cancer-Screening-DBT/DBT-P00129/1.2.826...  \n",
       "1719  Breast-Cancer-Screening-DBT/DBT-P00129/1.2.826...  \n",
       "1720  Breast-Cancer-Screening-DBT/DBT-P00129/1.2.826...  \n",
       "\n",
       "[1721 rows x 5 columns]"
      ]
     },
     "execution_count": 4,
     "metadata": {},
     "output_type": "execute_result"
    }
   ],
   "source": [
    "file_path_test"
   ]
  },
  {
   "cell_type": "markdown",
   "metadata": {},
   "source": [
    "### Plot some images"
   ]
  },
  {
   "cell_type": "code",
   "execution_count": 5,
   "metadata": {},
   "outputs": [],
   "source": [
    "# df = file_path_test\n",
    "# view_series = df.iloc[0]\n",
    "# view = view_series[\"View\"]\n",
    "# # if you have image data saved in classic path folder structure, read the file path from \"classic_path\"\n",
    "# # image_path = os.path.join(\"D:/LUCAS/PIBIC/DATASET/CANCER_IMAGING_ARCHIVE/test/manifest-1617905855234/\", view_series[\"descriptive_path\"])\n",
    "# image_path = \"D:/LUCAS/PIBIC/DATASET/CANCER_IMAGING_ARCHIVE/test/manifest-1617905855234/Breast-Cancer-Screening-DBT/DBT-P00036/01-01-2000-DBT-S03354-MAMMO screening digital bilateral-14628/12278.000000-NA-02208/1-1.dcm\""
   ]
  },
  {
   "cell_type": "code",
   "execution_count": 6,
   "metadata": {},
   "outputs": [],
   "source": [
    "# image = dcmread_image(fp=image_path, view=view)\n",
    "# plt.imshow(image[1], cmap=plt.cm.gray);"
   ]
  },
  {
   "cell_type": "code",
   "execution_count": 7,
   "metadata": {},
   "outputs": [],
   "source": [
    "# # Load the DICOM image\n",
    "# dicom_data = pydicom.dcmread(image_path)\n",
    "# dicom_data"
   ]
  },
  {
   "cell_type": "markdown",
   "metadata": {},
   "source": [
    "### Some Informations"
   ]
  },
  {
   "cell_type": "code",
   "execution_count": 8,
   "metadata": {},
   "outputs": [],
   "source": [
    "unique_pat = list(pd.unique(labels_train[\"PatientID\"]))"
   ]
  },
  {
   "cell_type": "code",
   "execution_count": 9,
   "metadata": {},
   "outputs": [
    {
     "name": "stdout",
     "output_type": "stream",
     "text": [
      "Patient with cancer 39\n",
      "Patient with not cancer 4323\n"
     ]
    }
   ],
   "source": [
    "neg_pat = []\n",
    "pos_pat = []\n",
    "for pat in unique_pat:\n",
    "    flag = list(labels_train.loc[labels_train[\"PatientID\"] == pat]['Cancer'])\n",
    "    if flag[0]:\n",
    "        pos_pat.append(pat)\n",
    "    else:\n",
    "        neg_pat.append(pat)\n",
    "print(f\"Patient with cancer {len(pos_pat)}\")\n",
    "print(f\"Patient with not cancer {len(neg_pat)}\")"
   ]
  },
  {
   "cell_type": "markdown",
   "metadata": {},
   "source": [
    "### Fix file_path_train"
   ]
  },
  {
   "cell_type": "code",
   "execution_count": 10,
   "metadata": {},
   "outputs": [
    {
     "data": {
      "text/html": [
       "<div>\n",
       "<style scoped>\n",
       "    .dataframe tbody tr th:only-of-type {\n",
       "        vertical-align: middle;\n",
       "    }\n",
       "\n",
       "    .dataframe tbody tr th {\n",
       "        vertical-align: top;\n",
       "    }\n",
       "\n",
       "    .dataframe thead th {\n",
       "        text-align: right;\n",
       "    }\n",
       "</style>\n",
       "<table border=\"1\" class=\"dataframe\">\n",
       "  <thead>\n",
       "    <tr style=\"text-align: right;\">\n",
       "      <th></th>\n",
       "      <th>PatientID</th>\n",
       "      <th>StudyUID</th>\n",
       "      <th>View</th>\n",
       "      <th>descriptive_path</th>\n",
       "      <th>classic_path</th>\n",
       "      <th>fullpath</th>\n",
       "    </tr>\n",
       "  </thead>\n",
       "  <tbody>\n",
       "    <tr>\n",
       "      <th>0</th>\n",
       "      <td>DBT-P00013</td>\n",
       "      <td>DBT-S00163</td>\n",
       "      <td>rmlo</td>\n",
       "      <td>Breast-Cancer-Screening-DBT/DBT-P00013/01-01-2...</td>\n",
       "      <td>Breast-Cancer-Screening-DBT/DBT-P00013/1.2.826...</td>\n",
       "      <td>C:/Users/Lucas/Documents/PIBIC/DATASET/CANCER_...</td>\n",
       "    </tr>\n",
       "    <tr>\n",
       "      <th>1</th>\n",
       "      <td>DBT-P00023</td>\n",
       "      <td>DBT-S04378</td>\n",
       "      <td>lcc</td>\n",
       "      <td>Breast-Cancer-Screening-DBT/DBT-P00023/01-01-2...</td>\n",
       "      <td>Breast-Cancer-Screening-DBT/DBT-P00023/1.2.826...</td>\n",
       "      <td>C:/Users/Lucas/Documents/PIBIC/DATASET/CANCER_...</td>\n",
       "    </tr>\n",
       "    <tr>\n",
       "      <th>2</th>\n",
       "      <td>DBT-P00023</td>\n",
       "      <td>DBT-S04378</td>\n",
       "      <td>lmlo</td>\n",
       "      <td>Breast-Cancer-Screening-DBT/DBT-P00023/01-01-2...</td>\n",
       "      <td>Breast-Cancer-Screening-DBT/DBT-P00023/1.2.826...</td>\n",
       "      <td>C:/Users/Lucas/Documents/PIBIC/DATASET/CANCER_...</td>\n",
       "    </tr>\n",
       "    <tr>\n",
       "      <th>3</th>\n",
       "      <td>DBT-P00023</td>\n",
       "      <td>DBT-S04378</td>\n",
       "      <td>rcc</td>\n",
       "      <td>Breast-Cancer-Screening-DBT/DBT-P00023/01-01-2...</td>\n",
       "      <td>Breast-Cancer-Screening-DBT/DBT-P00023/1.2.826...</td>\n",
       "      <td>C:/Users/Lucas/Documents/PIBIC/DATASET/CANCER_...</td>\n",
       "    </tr>\n",
       "    <tr>\n",
       "      <th>4</th>\n",
       "      <td>DBT-P00023</td>\n",
       "      <td>DBT-S04378</td>\n",
       "      <td>rmlo</td>\n",
       "      <td>Breast-Cancer-Screening-DBT/DBT-P00023/01-01-2...</td>\n",
       "      <td>Breast-Cancer-Screening-DBT/DBT-P00023/1.2.826...</td>\n",
       "      <td>C:/Users/Lucas/Documents/PIBIC/DATASET/CANCER_...</td>\n",
       "    </tr>\n",
       "    <tr>\n",
       "      <th>...</th>\n",
       "      <td>...</td>\n",
       "      <td>...</td>\n",
       "      <td>...</td>\n",
       "      <td>...</td>\n",
       "      <td>...</td>\n",
       "      <td>...</td>\n",
       "    </tr>\n",
       "    <tr>\n",
       "      <th>19143</th>\n",
       "      <td>DBT-P04356</td>\n",
       "      <td>DBT-S00073</td>\n",
       "      <td>rmlo</td>\n",
       "      <td>Breast-Cancer-Screening-DBT/DBT-P04356/01-01-2...</td>\n",
       "      <td>Breast-Cancer-Screening-DBT/DBT-P04356/1.2.826...</td>\n",
       "      <td>C:/Users/Lucas/Documents/PIBIC/DATASET/CANCER_...</td>\n",
       "    </tr>\n",
       "    <tr>\n",
       "      <th>19144</th>\n",
       "      <td>DBT-P01481</td>\n",
       "      <td>DBT-S01753</td>\n",
       "      <td>lcc</td>\n",
       "      <td>Breast-Cancer-Screening-DBT/DBT-P01481/01-01-2...</td>\n",
       "      <td>Breast-Cancer-Screening-DBT/DBT-P01481/1.2.826...</td>\n",
       "      <td>C:/Users/Lucas/Documents/PIBIC/DATASET/CANCER_...</td>\n",
       "    </tr>\n",
       "    <tr>\n",
       "      <th>19145</th>\n",
       "      <td>DBT-P01481</td>\n",
       "      <td>DBT-S01753</td>\n",
       "      <td>lmlo</td>\n",
       "      <td>Breast-Cancer-Screening-DBT/DBT-P01481/01-01-2...</td>\n",
       "      <td>Breast-Cancer-Screening-DBT/DBT-P01481/1.2.826...</td>\n",
       "      <td>C:/Users/Lucas/Documents/PIBIC/DATASET/CANCER_...</td>\n",
       "    </tr>\n",
       "    <tr>\n",
       "      <th>19146</th>\n",
       "      <td>DBT-P01481</td>\n",
       "      <td>DBT-S01753</td>\n",
       "      <td>rcc</td>\n",
       "      <td>Breast-Cancer-Screening-DBT/DBT-P01481/01-01-2...</td>\n",
       "      <td>Breast-Cancer-Screening-DBT/DBT-P01481/1.2.826...</td>\n",
       "      <td>C:/Users/Lucas/Documents/PIBIC/DATASET/CANCER_...</td>\n",
       "    </tr>\n",
       "    <tr>\n",
       "      <th>19147</th>\n",
       "      <td>DBT-P01481</td>\n",
       "      <td>DBT-S01753</td>\n",
       "      <td>rmlo</td>\n",
       "      <td>Breast-Cancer-Screening-DBT/DBT-P01481/01-01-2...</td>\n",
       "      <td>Breast-Cancer-Screening-DBT/DBT-P01481/1.2.826...</td>\n",
       "      <td>C:/Users/Lucas/Documents/PIBIC/DATASET/CANCER_...</td>\n",
       "    </tr>\n",
       "  </tbody>\n",
       "</table>\n",
       "<p>19148 rows × 6 columns</p>\n",
       "</div>"
      ],
      "text/plain": [
       "        PatientID    StudyUID  View  \\\n",
       "0      DBT-P00013  DBT-S00163  rmlo   \n",
       "1      DBT-P00023  DBT-S04378   lcc   \n",
       "2      DBT-P00023  DBT-S04378  lmlo   \n",
       "3      DBT-P00023  DBT-S04378   rcc   \n",
       "4      DBT-P00023  DBT-S04378  rmlo   \n",
       "...           ...         ...   ...   \n",
       "19143  DBT-P04356  DBT-S00073  rmlo   \n",
       "19144  DBT-P01481  DBT-S01753   lcc   \n",
       "19145  DBT-P01481  DBT-S01753  lmlo   \n",
       "19146  DBT-P01481  DBT-S01753   rcc   \n",
       "19147  DBT-P01481  DBT-S01753  rmlo   \n",
       "\n",
       "                                        descriptive_path  \\\n",
       "0      Breast-Cancer-Screening-DBT/DBT-P00013/01-01-2...   \n",
       "1      Breast-Cancer-Screening-DBT/DBT-P00023/01-01-2...   \n",
       "2      Breast-Cancer-Screening-DBT/DBT-P00023/01-01-2...   \n",
       "3      Breast-Cancer-Screening-DBT/DBT-P00023/01-01-2...   \n",
       "4      Breast-Cancer-Screening-DBT/DBT-P00023/01-01-2...   \n",
       "...                                                  ...   \n",
       "19143  Breast-Cancer-Screening-DBT/DBT-P04356/01-01-2...   \n",
       "19144  Breast-Cancer-Screening-DBT/DBT-P01481/01-01-2...   \n",
       "19145  Breast-Cancer-Screening-DBT/DBT-P01481/01-01-2...   \n",
       "19146  Breast-Cancer-Screening-DBT/DBT-P01481/01-01-2...   \n",
       "19147  Breast-Cancer-Screening-DBT/DBT-P01481/01-01-2...   \n",
       "\n",
       "                                            classic_path  \\\n",
       "0      Breast-Cancer-Screening-DBT/DBT-P00013/1.2.826...   \n",
       "1      Breast-Cancer-Screening-DBT/DBT-P00023/1.2.826...   \n",
       "2      Breast-Cancer-Screening-DBT/DBT-P00023/1.2.826...   \n",
       "3      Breast-Cancer-Screening-DBT/DBT-P00023/1.2.826...   \n",
       "4      Breast-Cancer-Screening-DBT/DBT-P00023/1.2.826...   \n",
       "...                                                  ...   \n",
       "19143  Breast-Cancer-Screening-DBT/DBT-P04356/1.2.826...   \n",
       "19144  Breast-Cancer-Screening-DBT/DBT-P01481/1.2.826...   \n",
       "19145  Breast-Cancer-Screening-DBT/DBT-P01481/1.2.826...   \n",
       "19146  Breast-Cancer-Screening-DBT/DBT-P01481/1.2.826...   \n",
       "19147  Breast-Cancer-Screening-DBT/DBT-P01481/1.2.826...   \n",
       "\n",
       "                                                fullpath  \n",
       "0      C:/Users/Lucas/Documents/PIBIC/DATASET/CANCER_...  \n",
       "1      C:/Users/Lucas/Documents/PIBIC/DATASET/CANCER_...  \n",
       "2      C:/Users/Lucas/Documents/PIBIC/DATASET/CANCER_...  \n",
       "3      C:/Users/Lucas/Documents/PIBIC/DATASET/CANCER_...  \n",
       "4      C:/Users/Lucas/Documents/PIBIC/DATASET/CANCER_...  \n",
       "...                                                  ...  \n",
       "19143  C:/Users/Lucas/Documents/PIBIC/DATASET/CANCER_...  \n",
       "19144  C:/Users/Lucas/Documents/PIBIC/DATASET/CANCER_...  \n",
       "19145  C:/Users/Lucas/Documents/PIBIC/DATASET/CANCER_...  \n",
       "19146  C:/Users/Lucas/Documents/PIBIC/DATASET/CANCER_...  \n",
       "19147  C:/Users/Lucas/Documents/PIBIC/DATASET/CANCER_...  \n",
       "\n",
       "[19148 rows x 6 columns]"
      ]
     },
     "execution_count": 10,
     "metadata": {},
     "output_type": "execute_result"
    }
   ],
   "source": [
    "# Path to add in front\n",
    "base_path = \"C:/Users/Lucas/Documents/PIBIC/DATASET/CANCER_IMAGING_ARCHIVE/manifest-1617905855234\"\n",
    "\n",
    "# Function to replace the last hyphen with \"-NA-\" in the last folder\n",
    "def replace_last_hyphen(path):\n",
    "    parts = path.split(\"/\")\n",
    "    last_folder = parts[-2]\n",
    "    last_hyphen_index = last_folder.rfind(\"-\")\n",
    "    if last_hyphen_index != -1:\n",
    "        parts[-2] = last_folder[:last_hyphen_index] + \"-NA-\" + last_folder[last_hyphen_index+1:]\n",
    "    return \"/\".join(parts)\n",
    "\n",
    "# Apply the function to the descriptive_path column\n",
    "file_path_train[\"descriptive_path\"] = file_path_train[\"descriptive_path\"].apply(replace_last_hyphen)\n",
    "\n",
    "# Concatenate the base path with the updated \"descriptive_path\"\n",
    "file_path_train[\"fullpath\"] = base_path + \"/\" + file_path_train[\"descriptive_path\"]\n",
    "\n",
    "file_path_train\n"
   ]
  },
  {
   "cell_type": "code",
   "execution_count": 11,
   "metadata": {},
   "outputs": [
    {
     "data": {
      "text/plain": [
       "'C:/Users/Lucas/Documents/PIBIC/DATASET/CANCER_IMAGING_ARCHIVE/manifest-1617905855234/Breast-Cancer-Screening-DBT/DBT-P00023/01-01-2000-DBT-S04378-MAMMO SCREENING DIGITAL BILATERAL-20650/19711.000000-NA-14072/1-1.dcm'"
      ]
     },
     "execution_count": 11,
     "metadata": {},
     "output_type": "execute_result"
    }
   ],
   "source": [
    "file_path_train[\"fullpath\"][1]"
   ]
  },
  {
   "cell_type": "markdown",
   "metadata": {},
   "source": [
    "### Split Data"
   ]
  },
  {
   "cell_type": "code",
   "execution_count": 12,
   "metadata": {},
   "outputs": [
    {
     "data": {
      "text/html": [
       "<div>\n",
       "<style scoped>\n",
       "    .dataframe tbody tr th:only-of-type {\n",
       "        vertical-align: middle;\n",
       "    }\n",
       "\n",
       "    .dataframe tbody tr th {\n",
       "        vertical-align: top;\n",
       "    }\n",
       "\n",
       "    .dataframe thead th {\n",
       "        text-align: right;\n",
       "    }\n",
       "</style>\n",
       "<table border=\"1\" class=\"dataframe\">\n",
       "  <thead>\n",
       "    <tr style=\"text-align: right;\">\n",
       "      <th></th>\n",
       "      <th>PatientID</th>\n",
       "      <th>StudyUID_x</th>\n",
       "      <th>View_x</th>\n",
       "      <th>fullpath</th>\n",
       "      <th>StudyUID_y</th>\n",
       "      <th>View_y</th>\n",
       "      <th>Cancer</th>\n",
       "    </tr>\n",
       "  </thead>\n",
       "  <tbody>\n",
       "    <tr>\n",
       "      <th>0</th>\n",
       "      <td>DBT-P00013</td>\n",
       "      <td>DBT-S00163</td>\n",
       "      <td>rmlo</td>\n",
       "      <td>C:/Users/Lucas/Documents/PIBIC/DATASET/CANCER_...</td>\n",
       "      <td>DBT-S00163</td>\n",
       "      <td>rmlo</td>\n",
       "      <td>0</td>\n",
       "    </tr>\n",
       "    <tr>\n",
       "      <th>1</th>\n",
       "      <td>DBT-P00023</td>\n",
       "      <td>DBT-S04378</td>\n",
       "      <td>lcc</td>\n",
       "      <td>C:/Users/Lucas/Documents/PIBIC/DATASET/CANCER_...</td>\n",
       "      <td>DBT-S04378</td>\n",
       "      <td>lcc</td>\n",
       "      <td>0</td>\n",
       "    </tr>\n",
       "    <tr>\n",
       "      <th>2</th>\n",
       "      <td>DBT-P00023</td>\n",
       "      <td>DBT-S04378</td>\n",
       "      <td>lcc</td>\n",
       "      <td>C:/Users/Lucas/Documents/PIBIC/DATASET/CANCER_...</td>\n",
       "      <td>DBT-S04378</td>\n",
       "      <td>lmlo</td>\n",
       "      <td>0</td>\n",
       "    </tr>\n",
       "    <tr>\n",
       "      <th>3</th>\n",
       "      <td>DBT-P00023</td>\n",
       "      <td>DBT-S04378</td>\n",
       "      <td>lcc</td>\n",
       "      <td>C:/Users/Lucas/Documents/PIBIC/DATASET/CANCER_...</td>\n",
       "      <td>DBT-S04378</td>\n",
       "      <td>rcc</td>\n",
       "      <td>0</td>\n",
       "    </tr>\n",
       "    <tr>\n",
       "      <th>4</th>\n",
       "      <td>DBT-P00023</td>\n",
       "      <td>DBT-S04378</td>\n",
       "      <td>lcc</td>\n",
       "      <td>C:/Users/Lucas/Documents/PIBIC/DATASET/CANCER_...</td>\n",
       "      <td>DBT-S04378</td>\n",
       "      <td>rmlo</td>\n",
       "      <td>0</td>\n",
       "    </tr>\n",
       "    <tr>\n",
       "      <th>...</th>\n",
       "      <td>...</td>\n",
       "      <td>...</td>\n",
       "      <td>...</td>\n",
       "      <td>...</td>\n",
       "      <td>...</td>\n",
       "      <td>...</td>\n",
       "      <td>...</td>\n",
       "    </tr>\n",
       "    <tr>\n",
       "      <th>91569</th>\n",
       "      <td>DBT-P01481</td>\n",
       "      <td>DBT-S01753</td>\n",
       "      <td>rcc</td>\n",
       "      <td>C:/Users/Lucas/Documents/PIBIC/DATASET/CANCER_...</td>\n",
       "      <td>DBT-S01753</td>\n",
       "      <td>rmlo</td>\n",
       "      <td>0</td>\n",
       "    </tr>\n",
       "    <tr>\n",
       "      <th>91570</th>\n",
       "      <td>DBT-P01481</td>\n",
       "      <td>DBT-S01753</td>\n",
       "      <td>rmlo</td>\n",
       "      <td>C:/Users/Lucas/Documents/PIBIC/DATASET/CANCER_...</td>\n",
       "      <td>DBT-S01753</td>\n",
       "      <td>lcc</td>\n",
       "      <td>0</td>\n",
       "    </tr>\n",
       "    <tr>\n",
       "      <th>91571</th>\n",
       "      <td>DBT-P01481</td>\n",
       "      <td>DBT-S01753</td>\n",
       "      <td>rmlo</td>\n",
       "      <td>C:/Users/Lucas/Documents/PIBIC/DATASET/CANCER_...</td>\n",
       "      <td>DBT-S01753</td>\n",
       "      <td>lmlo</td>\n",
       "      <td>0</td>\n",
       "    </tr>\n",
       "    <tr>\n",
       "      <th>91572</th>\n",
       "      <td>DBT-P01481</td>\n",
       "      <td>DBT-S01753</td>\n",
       "      <td>rmlo</td>\n",
       "      <td>C:/Users/Lucas/Documents/PIBIC/DATASET/CANCER_...</td>\n",
       "      <td>DBT-S01753</td>\n",
       "      <td>rcc</td>\n",
       "      <td>0</td>\n",
       "    </tr>\n",
       "    <tr>\n",
       "      <th>91573</th>\n",
       "      <td>DBT-P01481</td>\n",
       "      <td>DBT-S01753</td>\n",
       "      <td>rmlo</td>\n",
       "      <td>C:/Users/Lucas/Documents/PIBIC/DATASET/CANCER_...</td>\n",
       "      <td>DBT-S01753</td>\n",
       "      <td>rmlo</td>\n",
       "      <td>0</td>\n",
       "    </tr>\n",
       "  </tbody>\n",
       "</table>\n",
       "<p>91574 rows × 7 columns</p>\n",
       "</div>"
      ],
      "text/plain": [
       "        PatientID  StudyUID_x View_x  \\\n",
       "0      DBT-P00013  DBT-S00163   rmlo   \n",
       "1      DBT-P00023  DBT-S04378    lcc   \n",
       "2      DBT-P00023  DBT-S04378    lcc   \n",
       "3      DBT-P00023  DBT-S04378    lcc   \n",
       "4      DBT-P00023  DBT-S04378    lcc   \n",
       "...           ...         ...    ...   \n",
       "91569  DBT-P01481  DBT-S01753    rcc   \n",
       "91570  DBT-P01481  DBT-S01753   rmlo   \n",
       "91571  DBT-P01481  DBT-S01753   rmlo   \n",
       "91572  DBT-P01481  DBT-S01753   rmlo   \n",
       "91573  DBT-P01481  DBT-S01753   rmlo   \n",
       "\n",
       "                                                fullpath  StudyUID_y View_y  \\\n",
       "0      C:/Users/Lucas/Documents/PIBIC/DATASET/CANCER_...  DBT-S00163   rmlo   \n",
       "1      C:/Users/Lucas/Documents/PIBIC/DATASET/CANCER_...  DBT-S04378    lcc   \n",
       "2      C:/Users/Lucas/Documents/PIBIC/DATASET/CANCER_...  DBT-S04378   lmlo   \n",
       "3      C:/Users/Lucas/Documents/PIBIC/DATASET/CANCER_...  DBT-S04378    rcc   \n",
       "4      C:/Users/Lucas/Documents/PIBIC/DATASET/CANCER_...  DBT-S04378   rmlo   \n",
       "...                                                  ...         ...    ...   \n",
       "91569  C:/Users/Lucas/Documents/PIBIC/DATASET/CANCER_...  DBT-S01753   rmlo   \n",
       "91570  C:/Users/Lucas/Documents/PIBIC/DATASET/CANCER_...  DBT-S01753    lcc   \n",
       "91571  C:/Users/Lucas/Documents/PIBIC/DATASET/CANCER_...  DBT-S01753   lmlo   \n",
       "91572  C:/Users/Lucas/Documents/PIBIC/DATASET/CANCER_...  DBT-S01753    rcc   \n",
       "91573  C:/Users/Lucas/Documents/PIBIC/DATASET/CANCER_...  DBT-S01753   rmlo   \n",
       "\n",
       "       Cancer  \n",
       "0           0  \n",
       "1           0  \n",
       "2           0  \n",
       "3           0  \n",
       "4           0  \n",
       "...       ...  \n",
       "91569       0  \n",
       "91570       0  \n",
       "91571       0  \n",
       "91572       0  \n",
       "91573       0  \n",
       "\n",
       "[91574 rows x 7 columns]"
      ]
     },
     "execution_count": 12,
     "metadata": {},
     "output_type": "execute_result"
    }
   ],
   "source": [
    "merged_df = pd.merge(file_path_train, labels_train, on=\"PatientID\")\n",
    "merged_df  = merged_df[['PatientID', 'StudyUID_x', 'View_x', 'fullpath', 'StudyUID_y', 'View_y', 'Cancer']]\n",
    "merged_df"
   ]
  },
  {
   "cell_type": "code",
   "execution_count": 13,
   "metadata": {},
   "outputs": [
    {
     "data": {
      "text/plain": [
       "(39, 4323)"
      ]
     },
     "execution_count": 13,
     "metadata": {},
     "output_type": "execute_result"
    }
   ],
   "source": [
    "len(pos_pat), len(neg_pat)"
   ]
  },
  {
   "cell_type": "code",
   "execution_count": 14,
   "metadata": {},
   "outputs": [],
   "source": [
    "# Divisão dos pacientes em conjuntos de treino, teste e validação\n",
    "train_ratio = 0.7\n",
    "test_ratio = 0.15\n",
    "val_ratio = 0.15\n",
    "\n",
    "# Embaralhe a ordem dos pacientes\n",
    "random.shuffle(pos_pat)\n",
    "random.shuffle(neg_pat)\n",
    "\n",
    "# Separe os pacientes em conjuntos de treino, teste e valid\n",
    "train_patients = pos_pat[:int(len(pos_pat) * train_ratio)] + neg_pat[:int(len(neg_pat) * train_ratio)]\n",
    "\n",
    "test_patients = pos_pat[int(len(pos_pat) * train_ratio):int(len(pos_pat) * (train_ratio + test_ratio))] + \\\n",
    "                neg_pat[int(len(neg_pat) * train_ratio):int(len(neg_pat) * (train_ratio + test_ratio))]\n",
    "                \n",
    "valid_patients = pos_pat[int(len(pos_pat) * (train_ratio + test_ratio)):] + \\\n",
    "                 neg_pat[int(len(neg_pat) * (train_ratio + test_ratio)):]"
   ]
  },
  {
   "cell_type": "code",
   "execution_count": 15,
   "metadata": {},
   "outputs": [],
   "source": [
    "train_df = merged_df[merged_df['PatientID'].isin(train_patients)]\n",
    "test_df = merged_df[merged_df['PatientID'].isin(test_patients)]\n",
    "valid_df = merged_df[merged_df['PatientID'].isin(valid_patients)]"
   ]
  },
  {
   "cell_type": "code",
   "execution_count": 16,
   "metadata": {},
   "outputs": [],
   "source": [
    "train_path, train_label = list(train_df['fullpath']), list(train_df['Cancer'])\n",
    "test_path, test_label = list(test_df['fullpath']), list(test_df['Cancer'])\n",
    "valid_path, valid_label = list(valid_df['fullpath']), list(valid_df['Cancer'])"
   ]
  },
  {
   "cell_type": "code",
   "execution_count": 17,
   "metadata": {},
   "outputs": [
    {
     "data": {
      "text/plain": [
       "(63665, 63665)"
      ]
     },
     "execution_count": 17,
     "metadata": {},
     "output_type": "execute_result"
    }
   ],
   "source": [
    "len(train_path), len(train_label)"
   ]
  },
  {
   "cell_type": "code",
   "execution_count": 18,
   "metadata": {},
   "outputs": [
    {
     "data": {
      "text/plain": [
       "(13830, 13830)"
      ]
     },
     "execution_count": 18,
     "metadata": {},
     "output_type": "execute_result"
    }
   ],
   "source": [
    "len(test_path), len(test_label)"
   ]
  },
  {
   "cell_type": "code",
   "execution_count": 19,
   "metadata": {},
   "outputs": [
    {
     "data": {
      "text/plain": [
       "(14079, 14079)"
      ]
     },
     "execution_count": 19,
     "metadata": {},
     "output_type": "execute_result"
    }
   ],
   "source": [
    "len(valid_path), len(valid_label)"
   ]
  },
  {
   "cell_type": "code",
   "execution_count": 20,
   "metadata": {},
   "outputs": [
    {
     "name": "stdout",
     "output_type": "stream",
     "text": [
      "Número de pacientes no conjunto de treino: 3053\n",
      "Número de pacientes no conjunto de teste: 654\n",
      "Número de pacientes no conjunto de validação: 655\n"
     ]
    }
   ],
   "source": [
    "print(\"Número de pacientes no conjunto de treino:\", len(train_patients))\n",
    "print(\"Número de pacientes no conjunto de teste:\", len(test_patients))\n",
    "print(\"Número de pacientes no conjunto de validação:\", len(valid_patients))"
   ]
  },
  {
   "cell_type": "code",
   "execution_count": 21,
   "metadata": {},
   "outputs": [
    {
     "data": {
      "text/plain": [
       "True"
      ]
     },
     "execution_count": 21,
     "metadata": {},
     "output_type": "execute_result"
    }
   ],
   "source": [
    "len(neg_pat) + len(pos_pat) == len(train_patients)+len(test_patients)+len(valid_patients)"
   ]
  },
  {
   "cell_type": "code",
   "execution_count": 22,
   "metadata": {},
   "outputs": [
    {
     "name": "stdout",
     "output_type": "stream",
     "text": [
      "Elementos comuns nas três listas: []\n"
     ]
    }
   ],
   "source": [
    "def encontrar_elementos_comuns(lista1, lista2, lista3):\n",
    "    # Converte as listas para conjuntos para facilitar a interseção\n",
    "    conjunto1 = set(lista1)\n",
    "    conjunto2 = set(lista2)\n",
    "    conjunto3 = set(lista3)\n",
    "\n",
    "    # Encontra os elementos que estão presentes em todas as listas\n",
    "    elementos_comuns = conjunto1.intersection(conjunto2, conjunto3)\n",
    "    return list(elementos_comuns)\n",
    "\n",
    "# Exemplo de listas\n",
    "lista1 = train_path\n",
    "lista2 = test_path\n",
    "lista3 = valid_path\n",
    "\n",
    "# Encontrar elementos comuns\n",
    "elementos_comuns = encontrar_elementos_comuns(lista1, lista2, lista3)\n",
    "\n",
    "# Exibir os elementos comuns\n",
    "print(\"Elementos comuns nas três listas:\", elementos_comuns)\n"
   ]
  },
  {
   "cell_type": "markdown",
   "metadata": {},
   "source": [
    "### Saving the lists"
   ]
  },
  {
   "cell_type": "code",
   "execution_count": 23,
   "metadata": {},
   "outputs": [],
   "source": [
    "# In Notebook 1\n",
    "import json\n",
    "\n",
    "\n",
    "with open('C:/Users/Lucas/Documents/PIBIC/DATASET/CANCER_IMAGING_ARCHIVE/lists_preprocessing/train_path.json', 'w') as f:\n",
    "    json.dump(train_path, f)\n",
    "    \n",
    "with open('C:/Users/Lucas/Documents/PIBIC/DATASET/CANCER_IMAGING_ARCHIVE/lists_preprocessing/train_label.json', 'w') as f:\n",
    "    json.dump(train_label, f)\n",
    "\n",
    "\n",
    "with open('C:/Users/Lucas/Documents/PIBIC/DATASET/CANCER_IMAGING_ARCHIVE/lists_preprocessing/test_path.json', 'w') as f:\n",
    "    json.dump(test_path, f)\n",
    "    \n",
    "with open('C:/Users/Lucas/Documents/PIBIC/DATASET/CANCER_IMAGING_ARCHIVE/lists_preprocessing/test_label.json', 'w') as f:\n",
    "    json.dump(test_label, f)\n",
    "    \n",
    "    \n",
    "with open('C:/Users/Lucas/Documents/PIBIC/DATASET/CANCER_IMAGING_ARCHIVE/lists_preprocessing/valid_path.json', 'w') as f:\n",
    "    json.dump(valid_path, f)\n",
    "    \n",
    "with open('C:/Users/Lucas/Documents/PIBIC/DATASET/CANCER_IMAGING_ARCHIVE/lists_preprocessing/valid_label.json', 'w') as f:\n",
    "    json.dump(valid_label, f)\n"
   ]
  }
 ],
 "metadata": {
  "kernelspec": {
   "display_name": "torch000",
   "language": "python",
   "name": "python3"
  },
  "language_info": {
   "codemirror_mode": {
    "name": "ipython",
    "version": 3
   },
   "file_extension": ".py",
   "mimetype": "text/x-python",
   "name": "python",
   "nbconvert_exporter": "python",
   "pygments_lexer": "ipython3",
   "version": "3.10.13"
  }
 },
 "nbformat": 4,
 "nbformat_minor": 2
}
