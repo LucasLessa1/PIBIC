{
 "cells": [
  {
   "cell_type": "code",
   "execution_count": 1,
   "metadata": {},
   "outputs": [
    {
     "name": "stdout",
     "output_type": "stream",
     "text": [
      "Working Well\n"
     ]
    }
   ],
   "source": [
    "# For files e data manipulations\n",
    "from neuralNetwork import *"
   ]
  },
  {
   "cell_type": "markdown",
   "metadata": {},
   "source": [
    "## Neural Network"
   ]
  },
  {
   "cell_type": "code",
   "execution_count": 2,
   "metadata": {},
   "outputs": [],
   "source": [
    "pnn = PreNeuralNetwork()"
   ]
  },
  {
   "cell_type": "code",
   "execution_count": 21,
   "metadata": {},
   "outputs": [],
   "source": [
    "# dir_train = 'C:/Users/Lucas/Documents/PIBIC/DATASET/NIH-CHEST/archive/train'\n",
    "# dir_test  = 'C:/Users/Lucas/Documents/PIBIC/DATASET/NIH-CHEST/archive/test'\n",
    "# dir_valid = 'C:/Users/Lucas/Documents/PIBIC/DATASET/NIH-CHEST/archive/validation'\n",
    "dir_train = 'C:/Users/Lucas/PIBIC/new_dir_train'\n",
    "dir_test  = 'C:/Users/Lucas/PIBIC/new_dir_test'\n",
    "dir_valid = 'C:/Users/Lucas/PIBIC/new_dir_valid'\n",
    "\n",
    "batch_size = 32\n",
    "width = 224\n",
    "length = 224\n",
    "channel = 3\n",
    "image_size = (width, length)\n",
    "random.seed(123) "
   ]
  },
  {
   "cell_type": "markdown",
   "metadata": {},
   "source": [
    "Como está dando o CLOCK_WATCHDOG_TIMEOUT reduzirei a quantidade de imagens"
   ]
  },
  {
   "cell_type": "code",
   "execution_count": 22,
   "metadata": {},
   "outputs": [
    {
     "name": "stdout",
     "output_type": "stream",
     "text": [
      "Found 900 images belonging to 9 classes.\n",
      "Found 45 images belonging to 9 classes.\n",
      "Found 45 images belonging to 9 classes.\n"
     ]
    }
   ],
   "source": [
    "train_datagen= ImageDataGenerator(rescale=1.0/255)\n",
    "val_datagen  = ImageDataGenerator(rescale=1.0/255)\n",
    "test_datagen = ImageDataGenerator(rescale=1.0/255)\n",
    "\n",
    "train_generator=train_datagen.flow_from_directory(dir_train,\n",
    "                                        target_size=image_size,\n",
    "                                        color_mode='rgb',  # Ensure RGB color mode\n",
    "                                        class_mode='categorical',  # Adjust class_mode as needed\n",
    "                                        batch_size=batch_size,\n",
    "                                        subset='training'  # Specify 'training' for the training set\n",
    "                                    )\n",
    "\n",
    "val_generator=val_datagen.flow_from_directory(dir_valid,\n",
    "                                        target_size=image_size,\n",
    "                                        color_mode='rgb',\n",
    "                                        class_mode='categorical',\n",
    "                                        batch_size=batch_size\n",
    "                                    )\n",
    "\n",
    "test_generator=test_datagen.flow_from_directory(dir_test,\n",
    "                                        target_size=image_size,\n",
    "                                        color_mode='rgb',\n",
    "                                        class_mode='categorical',\n",
    "                                        batch_size=batch_size\n",
    "                                    )"
   ]
  },
  {
   "cell_type": "code",
   "execution_count": 23,
   "metadata": {},
   "outputs": [
    {
     "name": "stdout",
     "output_type": "stream",
     "text": [
      "Number of classes: 9\n"
     ]
    }
   ],
   "source": [
    "n_classes = train_generator.num_classes\n",
    "print(\"Number of classes:\", n_classes)"
   ]
  },
  {
   "cell_type": "code",
   "execution_count": 24,
   "metadata": {},
   "outputs": [
    {
     "name": "stdout",
     "output_type": "stream",
     "text": [
      "GPU is not available.\n"
     ]
    }
   ],
   "source": [
    "# Assuming you have a GPU with index 0\n",
    "gpus = tf.config.experimental.list_physical_devices('GPU')\n",
    "if gpus:\n",
    "    try:\n",
    "        # Specify GPU device\n",
    "        tf.config.experimental.set_visible_devices(gpus[0], 'GPU')\n",
    "        logical_gpus = tf.config.experimental.list_logical_devices('GPU')\n",
    "        print(len(gpus), \"Physical GPUs,\", len(logical_gpus), \"Logical GPUs\")\n",
    "    except RuntimeError as e:\n",
    "        print(e)\n",
    "\n",
    "\n",
    "if tf.test.is_gpu_available():\n",
    "    print(\"GPU is available and accessible.\")\n",
    "else:\n",
    "    print(\"GPU is not available.\")\n"
   ]
  },
  {
   "cell_type": "code",
   "execution_count": 25,
   "metadata": {},
   "outputs": [
    {
     "name": "stdout",
     "output_type": "stream",
     "text": [
      "Epoch 1/5\n",
      "29/29 [==============================] - 110s 3s/step - loss: 2.6984 - accuracy: 0.1144 - val_loss: 2.7506 - val_accuracy: 0.1111\n",
      "Epoch 2/5\n",
      "29/29 [==============================] - 95s 3s/step - loss: 2.2502 - accuracy: 0.1022 - val_loss: 2.4629 - val_accuracy: 0.1111\n",
      "Epoch 3/5\n",
      "29/29 [==============================] - 95s 3s/step - loss: 2.2538 - accuracy: 0.1189 - val_loss: 2.4548 - val_accuracy: 0.1111\n",
      "Epoch 4/5\n",
      "29/29 [==============================] - 97s 3s/step - loss: 2.2524 - accuracy: 0.1156 - val_loss: 2.2844 - val_accuracy: 0.1111\n",
      "Epoch 5/5\n",
      "29/29 [==============================] - 97s 3s/step - loss: 2.2660 - accuracy: 0.0978 - val_loss: 2.3281 - val_accuracy: 0.0889\n"
     ]
    }
   ],
   "source": [
    "# Create an instance of ResNet101Model\n",
    "num_classes = n_classes  # Adjust the number of classes as needed\n",
    "image_shape = (width,length,channel)  # Adjust image dimensions as needed\n",
    "model = EfficientNetModelB7(num_classes, image_shape)\n",
    "\n",
    "# Train the model\n",
    "history = model.train(train_generator, val_generator, epochs=5, batch_size=batch_size, early_stop_patience=5)"
   ]
  },
  {
   "cell_type": "code",
   "execution_count": 26,
   "metadata": {},
   "outputs": [
    {
     "name": "stdout",
     "output_type": "stream",
     "text": [
      "2/2 [==============================] - 5s 1s/step - loss: 2.3259 - accuracy: 0.0889\n"
     ]
    }
   ],
   "source": [
    "# Evaluate the model on test data\n",
    "test_loss, test_accuracy = model.evaluate(test_generator)"
   ]
  },
  {
   "cell_type": "code",
   "execution_count": 27,
   "metadata": {},
   "outputs": [
    {
     "data": {
      "text/html": [
       "<div>\n",
       "<style scoped>\n",
       "    .dataframe tbody tr th:only-of-type {\n",
       "        vertical-align: middle;\n",
       "    }\n",
       "\n",
       "    .dataframe tbody tr th {\n",
       "        vertical-align: top;\n",
       "    }\n",
       "\n",
       "    .dataframe thead th {\n",
       "        text-align: right;\n",
       "    }\n",
       "</style>\n",
       "<table border=\"1\" class=\"dataframe\">\n",
       "  <thead>\n",
       "    <tr style=\"text-align: right;\">\n",
       "      <th></th>\n",
       "      <th>epoch</th>\n",
       "      <th>train_loss</th>\n",
       "      <th>val_loss</th>\n",
       "      <th>train_accuracy</th>\n",
       "      <th>val_accuracy</th>\n",
       "    </tr>\n",
       "  </thead>\n",
       "  <tbody>\n",
       "    <tr>\n",
       "      <th>0</th>\n",
       "      <td>1</td>\n",
       "      <td>2.698406</td>\n",
       "      <td>2.750625</td>\n",
       "      <td>0.114444</td>\n",
       "      <td>0.111111</td>\n",
       "    </tr>\n",
       "    <tr>\n",
       "      <th>1</th>\n",
       "      <td>2</td>\n",
       "      <td>2.250162</td>\n",
       "      <td>2.462895</td>\n",
       "      <td>0.102222</td>\n",
       "      <td>0.111111</td>\n",
       "    </tr>\n",
       "    <tr>\n",
       "      <th>2</th>\n",
       "      <td>3</td>\n",
       "      <td>2.253837</td>\n",
       "      <td>2.454827</td>\n",
       "      <td>0.118889</td>\n",
       "      <td>0.111111</td>\n",
       "    </tr>\n",
       "    <tr>\n",
       "      <th>3</th>\n",
       "      <td>4</td>\n",
       "      <td>2.252445</td>\n",
       "      <td>2.284406</td>\n",
       "      <td>0.115556</td>\n",
       "      <td>0.111111</td>\n",
       "    </tr>\n",
       "    <tr>\n",
       "      <th>4</th>\n",
       "      <td>5</td>\n",
       "      <td>2.266049</td>\n",
       "      <td>2.328089</td>\n",
       "      <td>0.097778</td>\n",
       "      <td>0.088889</td>\n",
       "    </tr>\n",
       "  </tbody>\n",
       "</table>\n",
       "</div>"
      ],
      "text/plain": [
       "   epoch  train_loss  val_loss  train_accuracy  val_accuracy\n",
       "0      1    2.698406  2.750625        0.114444      0.111111\n",
       "1      2    2.250162  2.462895        0.102222      0.111111\n",
       "2      3    2.253837  2.454827        0.118889      0.111111\n",
       "3      4    2.252445  2.284406        0.115556      0.111111\n",
       "4      5    2.266049  2.328089        0.097778      0.088889"
      ]
     },
     "execution_count": 27,
     "metadata": {},
     "output_type": "execute_result"
    }
   ],
   "source": [
    "df_results = model.create_metrics_dataframe(history)\n",
    "df_results"
   ]
  },
  {
   "cell_type": "code",
   "execution_count": 28,
   "metadata": {},
   "outputs": [
    {
     "data": {
      "image/png": "[encoded data removed]",
      "text/plain": [
       "<Figure size 640x480 with 1 Axes>"
      ]
     },
     "metadata": {},
     "output_type": "display_data"
    },
    {
     "data": {
      "image/png": "[encoded data removed]",
      "text/plain": [
       "<Figure size 640x480 with 1 Axes>"
      ]
     },
     "metadata": {},
     "output_type": "display_data"
    }
   ],
   "source": [
    "model.plot_history(history)"
   ]
  },
  {
   "cell_type": "code",
   "execution_count": null,
   "metadata": {},
   "outputs": [],
   "source": [
    "# full_model.compile(loss='sparse_categorical_crossentropy',\n",
    "#               optimizer=RMSprop(lr=1e-4),\n",
    "#               metrics=['accuracy'])"
   ]
  },
  {
   "cell_type": "code",
   "execution_count": null,
   "metadata": {},
   "outputs": [],
   "source": [
    "# # Checkpoint\n",
    "# checkpoint = tf.keras.callbacks.ModelCheckpoint(f'model_NIG-CHEST/model_vgg_{qntd_for_model}_1.h5', \n",
    "#                                                 verbose = 1, \n",
    "#                                                 save_best = True, \n",
    "#                                                 save_weights_only = True)\n",
    "\n",
    "# # Early stop\n",
    "# early_stop = tf.keras.callbacks.EarlyStopping(patience = 4) "
   ]
  }
 ],
 "metadata": {
  "kernelspec": {
   "display_name": "lessinha",
   "language": "python",
   "name": "python3"
  },
  "language_info": {
   "codemirror_mode": {
    "name": "ipython",
    "version": 3
   },
   "file_extension": ".py",
   "mimetype": "text/x-python",
   "name": "python",
   "nbconvert_exporter": "python",
   "pygments_lexer": "ipython3",
   "version": "3.11.5"
  },
  "orig_nbformat": 4
 },
 "nbformat": 4,
 "nbformat_minor": 2
}
