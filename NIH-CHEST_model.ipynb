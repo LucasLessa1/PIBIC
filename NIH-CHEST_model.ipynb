{
 "cells": [
  {
   "cell_type": "code",
   "execution_count": 1,
   "metadata": {},
   "outputs": [
    {
     "name": "stdout",
     "output_type": "stream",
     "text": [
      "Working Well\n"
     ]
    }
   ],
   "source": [
    "# For files e data manipulations\n",
    "from neuralNetwork import *"
   ]
  },
  {
   "cell_type": "markdown",
   "metadata": {},
   "source": [
    "## Neural Network"
   ]
  },
  {
   "cell_type": "code",
   "execution_count": 2,
   "metadata": {},
   "outputs": [],
   "source": [
    "pnn = PreNeuralNetwork()"
   ]
  },
  {
   "cell_type": "code",
   "execution_count": 3,
   "metadata": {},
   "outputs": [],
   "source": [
    "dir_train = 'C:/Users/Lucas/Documents/PIBIC/DATASET/NIH-CHEST/archive/train'\n",
    "dir_test  = 'C:/Users/Lucas/Documents/PIBIC/DATASET/NIH-CHEST/archive/test'\n",
    "dir_valid = 'C:/Users/Lucas/Documents/PIBIC/DATASET/NIH-CHEST/archive/validation'\n",
    "# dir_train = 'C:/Users/Lucas/PIBIC/new_dir_train'\n",
    "# dir_test  = 'C:/Users/Lucas/PIBIC/new_dir_test'\n",
    "# dir_valid = 'C:/Users/Lucas/PIBIC/new_dir_valid'\n",
    "\n",
    "batch_size = 64\n",
    "width = 224\n",
    "length = 224\n",
    "channel = 3\n",
    "image_size = (width, length)\n",
    "random.seed(123) "
   ]
  },
  {
   "cell_type": "markdown",
   "metadata": {},
   "source": [
    "Como está dando o CLOCK_WATCHDOG_TIMEOUT reduzirei a quantidade de imagens"
   ]
  },
  {
   "cell_type": "code",
   "execution_count": 4,
   "metadata": {},
   "outputs": [
    {
     "name": "stdout",
     "output_type": "stream",
     "text": [
      "Found 77877 images belonging to 9 classes.\n",
      "Found 4328 images belonging to 9 classes.\n",
      "Found 4326 images belonging to 9 classes.\n"
     ]
    }
   ],
   "source": [
    "train_datagen= ImageDataGenerator(rescale=1.0/255)\n",
    "val_datagen  = ImageDataGenerator(rescale=1.0/255)\n",
    "test_datagen = ImageDataGenerator(rescale=1.0/255)\n",
    "\n",
    "train_generator=train_datagen.flow_from_directory(dir_train,\n",
    "                                        target_size=image_size,\n",
    "                                        color_mode='rgb',  # Ensure RGB color mode\n",
    "                                        class_mode='categorical',  # Adjust class_mode as needed\n",
    "                                        batch_size=batch_size,\n",
    "                                        subset='training'  # Specify 'training' for the training set\n",
    "                                    )\n",
    "\n",
    "val_generator=val_datagen.flow_from_directory(dir_valid,\n",
    "                                        target_size=image_size,\n",
    "                                        color_mode='rgb',\n",
    "                                        class_mode='categorical',\n",
    "                                        batch_size=batch_size\n",
    "                                    )\n",
    "\n",
    "test_generator=test_datagen.flow_from_directory(dir_test,\n",
    "                                        target_size=image_size,\n",
    "                                        color_mode='rgb',\n",
    "                                        class_mode='categorical',\n",
    "                                        batch_size=batch_size\n",
    "                                    )"
   ]
  },
  {
   "cell_type": "code",
   "execution_count": 5,
   "metadata": {},
   "outputs": [
    {
     "name": "stdout",
     "output_type": "stream",
     "text": [
      "Number of classes: 9\n"
     ]
    }
   ],
   "source": [
    "n_classes = train_generator.num_classes\n",
    "print(\"Number of classes:\", n_classes)"
   ]
  },
  {
   "cell_type": "code",
   "execution_count": 6,
   "metadata": {},
   "outputs": [
    {
     "name": "stdout",
     "output_type": "stream",
     "text": [
      "WARNING:tensorflow:From C:\\Users\\Lucas\\AppData\\Local\\Temp\\ipykernel_21764\\2730048621.py:13: is_gpu_available (from tensorflow.python.framework.test_util) is deprecated and will be removed in a future version.\n",
      "Instructions for updating:\n",
      "Use `tf.config.list_physical_devices('GPU')` instead.\n",
      "GPU is not available.\n"
     ]
    }
   ],
   "source": [
    "# Assuming you have a GPU with index 0\n",
    "gpus = tf.config.experimental.list_physical_devices('GPU')\n",
    "if gpus:\n",
    "    try:\n",
    "        # Specify GPU device\n",
    "        tf.config.experimental.set_visible_devices(gpus[0], 'GPU')\n",
    "        logical_gpus = tf.config.experimental.list_logical_devices('GPU')\n",
    "        print(len(gpus), \"Physical GPUs,\", len(logical_gpus), \"Logical GPUs\")\n",
    "    except RuntimeError as e:\n",
    "        print(e)\n",
    "\n",
    "\n",
    "if tf.test.is_gpu_available():\n",
    "    print(\"GPU is available and accessible.\")\n",
    "else:\n",
    "    print(\"GPU is not available.\")\n"
   ]
  },
  {
   "cell_type": "code",
   "execution_count": 7,
   "metadata": {},
   "outputs": [
    {
     "ename": "SyntaxError",
     "evalue": "invalid decimal literal (106419868.py, line 1)",
     "output_type": "error",
     "traceback": [
      "\u001b[1;36m  Cell \u001b[1;32mIn[7], line 1\u001b[1;36m\u001b[0m\n\u001b[1;33m    5151ppp\u001b[0m\n\u001b[1;37m       ^\u001b[0m\n\u001b[1;31mSyntaxError\u001b[0m\u001b[1;31m:\u001b[0m invalid decimal literal\n"
     ]
    }
   ],
   "source": [
    "5151ppp"
   ]
  },
  {
   "cell_type": "code",
   "execution_count": null,
   "metadata": {},
   "outputs": [],
   "source": [
    "num_classes = n_classes  # Adjust the number of classes as needed\n",
    "image_shape = (width,length,channel)  # Adjust image dimensions as needed\n",
    "model = EfficientNetModelB7(num_classes, image_shape)\n",
    "\n",
    "# Train the model\n",
    "history_b7 = model.train(train_generator, val_generator, epochs=20, batch_size=batch_size, early_stop_patience=5)\n",
    "\n",
    "\n",
    "# num_classes = n_classes  # Adjust the number of classes as needed\n",
    "# image_shape = (width,length,channel)  # Adjust image dimensions as needed\n",
    "# model = EfficientNetModelB4(num_classes, image_shape)\n",
    "\n",
    "# # Train the model\n",
    "# history_b4 = model.train(train_generator, val_generator, epochs=20, batch_size=batch_size, early_stop_patience=5)"
   ]
  },
  {
   "cell_type": "code",
   "execution_count": null,
   "metadata": {},
   "outputs": [],
   "source": [
    "# Evaluate the model on test data\n",
    "test_loss, test_accuracy = model.evaluate(test_generator)"
   ]
  },
  {
   "cell_type": "code",
   "execution_count": null,
   "metadata": {},
   "outputs": [],
   "source": [
    "df_results = model.create_metrics_dataframe(history_b7)\n",
    "df_results"
   ]
  },
  {
   "cell_type": "code",
   "execution_count": null,
   "metadata": {},
   "outputs": [],
   "source": [
    "model.plot_history(history_b7)"
   ]
  },
  {
   "cell_type": "code",
   "execution_count": 9,
   "metadata": {},
   "outputs": [
    {
     "name": "stdout",
     "output_type": "stream",
     "text": [
      "Epoch 1/20\n",
      "1217/1217 [==============================] - 3470s 3s/step - loss: 1.1690 - accuracy: 0.6873 - val_loss: 5.5805 - val_accuracy: 0.0455\n",
      "Epoch 2/20\n",
      "1217/1217 [==============================] - 3512s 3s/step - loss: 1.1258 - accuracy: 0.6950 - val_loss: 2.9226 - val_accuracy: 0.0310\n",
      "Epoch 3/20\n",
      "1217/1217 [==============================] - 3532s 3s/step - loss: 1.1173 - accuracy: 0.6947 - val_loss: 1.4367 - val_accuracy: 0.7003\n",
      "Epoch 4/20\n",
      "1217/1217 [==============================] - 3531s 3s/step - loss: 1.1124 - accuracy: 0.6955 - val_loss: 3.6839 - val_accuracy: 0.0187\n",
      "Epoch 5/20\n",
      "1217/1217 [==============================] - 3526s 3s/step - loss: 1.1072 - accuracy: 0.6951 - val_loss: 4.9290 - val_accuracy: 0.0448\n",
      "Epoch 6/20\n",
      "1217/1217 [==============================] - 3519s 3s/step - loss: 1.1051 - accuracy: 0.6954 - val_loss: 1.8144 - val_accuracy: 0.7038\n",
      "Epoch 7/20\n",
      "1217/1217 [==============================] - 3553s 3s/step - loss: 1.1011 - accuracy: 0.6953 - val_loss: 5.1827 - val_accuracy: 0.0266\n",
      "Epoch 8/20\n",
      "1217/1217 [==============================] - 3566s 3s/step - loss: 1.0984 - accuracy: 0.6954 - val_loss: 2.4259 - val_accuracy: 0.1259\n"
     ]
    }
   ],
   "source": [
    "model = ResNet101Model(num_classes, image_shape)\n",
    "\n",
    "# Train the model\n",
    "history_101 = model.train(train_generator, val_generator, epochs=20, batch_size=batch_size, early_stop_patience=5)"
   ]
  },
  {
   "cell_type": "code",
   "execution_count": 10,
   "metadata": {},
   "outputs": [
    {
     "name": "stdout",
     "output_type": "stream",
     "text": [
      "68/68 [==============================] - 187s 3s/step - loss: 1.4717 - accuracy: 0.6930\n"
     ]
    },
    {
     "data": {
      "image/png": "[encoded data removed]",
      "text/plain": [
       "<Figure size 640x480 with 1 Axes>"
      ]
     },
     "metadata": {},
     "output_type": "display_data"
    },
    {
     "data": {
      "image/png": "[encoded data removed]",
      "text/plain": [
       "<Figure size 640x480 with 1 Axes>"
      ]
     },
     "metadata": {},
     "output_type": "display_data"
    }
   ],
   "source": [
    "# Evaluate the model on test data\n",
    "test_loss, test_accuracy = model.evaluate(test_generator)\n",
    "df_results = model.create_metrics_dataframe(history_101)\n",
    "model.plot_history(history_101)"
   ]
  },
  {
   "cell_type": "code",
   "execution_count": 11,
   "metadata": {},
   "outputs": [
    {
     "data": {
      "text/html": [
       "<div>\n",
       "<style scoped>\n",
       "    .dataframe tbody tr th:only-of-type {\n",
       "        vertical-align: middle;\n",
       "    }\n",
       "\n",
       "    .dataframe tbody tr th {\n",
       "        vertical-align: top;\n",
       "    }\n",
       "\n",
       "    .dataframe thead th {\n",
       "        text-align: right;\n",
       "    }\n",
       "</style>\n",
       "<table border=\"1\" class=\"dataframe\">\n",
       "  <thead>\n",
       "    <tr style=\"text-align: right;\">\n",
       "      <th></th>\n",
       "      <th>epoch</th>\n",
       "      <th>train_loss</th>\n",
       "      <th>val_loss</th>\n",
       "      <th>train_accuracy</th>\n",
       "      <th>val_accuracy</th>\n",
       "    </tr>\n",
       "  </thead>\n",
       "  <tbody>\n",
       "    <tr>\n",
       "      <th>0</th>\n",
       "      <td>1</td>\n",
       "      <td>1.168971</td>\n",
       "      <td>5.580523</td>\n",
       "      <td>0.687250</td>\n",
       "      <td>0.045518</td>\n",
       "    </tr>\n",
       "    <tr>\n",
       "      <th>1</th>\n",
       "      <td>2</td>\n",
       "      <td>1.125828</td>\n",
       "      <td>2.922603</td>\n",
       "      <td>0.694968</td>\n",
       "      <td>0.030961</td>\n",
       "    </tr>\n",
       "    <tr>\n",
       "      <th>2</th>\n",
       "      <td>3</td>\n",
       "      <td>1.117281</td>\n",
       "      <td>1.436661</td>\n",
       "      <td>0.694685</td>\n",
       "      <td>0.700323</td>\n",
       "    </tr>\n",
       "    <tr>\n",
       "      <th>3</th>\n",
       "      <td>4</td>\n",
       "      <td>1.112399</td>\n",
       "      <td>3.683862</td>\n",
       "      <td>0.695494</td>\n",
       "      <td>0.018715</td>\n",
       "    </tr>\n",
       "    <tr>\n",
       "      <th>4</th>\n",
       "      <td>5</td>\n",
       "      <td>1.107211</td>\n",
       "      <td>4.928956</td>\n",
       "      <td>0.695058</td>\n",
       "      <td>0.044824</td>\n",
       "    </tr>\n",
       "    <tr>\n",
       "      <th>5</th>\n",
       "      <td>6</td>\n",
       "      <td>1.105107</td>\n",
       "      <td>1.814439</td>\n",
       "      <td>0.695430</td>\n",
       "      <td>0.703789</td>\n",
       "    </tr>\n",
       "    <tr>\n",
       "      <th>6</th>\n",
       "      <td>7</td>\n",
       "      <td>1.101101</td>\n",
       "      <td>5.182717</td>\n",
       "      <td>0.695314</td>\n",
       "      <td>0.026571</td>\n",
       "    </tr>\n",
       "    <tr>\n",
       "      <th>7</th>\n",
       "      <td>8</td>\n",
       "      <td>1.098407</td>\n",
       "      <td>2.425920</td>\n",
       "      <td>0.695404</td>\n",
       "      <td>0.125924</td>\n",
       "    </tr>\n",
       "  </tbody>\n",
       "</table>\n",
       "</div>"
      ],
      "text/plain": [
       "   epoch  train_loss  val_loss  train_accuracy  val_accuracy\n",
       "0      1    1.168971  5.580523        0.687250      0.045518\n",
       "1      2    1.125828  2.922603        0.694968      0.030961\n",
       "2      3    1.117281  1.436661        0.694685      0.700323\n",
       "3      4    1.112399  3.683862        0.695494      0.018715\n",
       "4      5    1.107211  4.928956        0.695058      0.044824\n",
       "5      6    1.105107  1.814439        0.695430      0.703789\n",
       "6      7    1.101101  5.182717        0.695314      0.026571\n",
       "7      8    1.098407  2.425920        0.695404      0.125924"
      ]
     },
     "execution_count": 11,
     "metadata": {},
     "output_type": "execute_result"
    }
   ],
   "source": [
    "df_results"
   ]
  }
 ],
 "metadata": {
  "kernelspec": {
   "display_name": "lessinha",
   "language": "python",
   "name": "python3"
  },
  "language_info": {
   "codemirror_mode": {
    "name": "ipython",
    "version": 3
   },
   "file_extension": ".py",
   "mimetype": "text/x-python",
   "name": "python",
   "nbconvert_exporter": "python",
   "pygments_lexer": "ipython3",
   "version": "3.11.5"
  },
  "orig_nbformat": 4
 },
 "nbformat": 4,
 "nbformat_minor": 2
}
